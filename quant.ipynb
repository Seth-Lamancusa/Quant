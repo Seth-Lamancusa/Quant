{
 "cells": [
  {
   "cell_type": "code",
   "execution_count": null,
   "metadata": {},
   "outputs": [],
   "source": [
    "%pip install matplotlib\n",
    "\n",
    "from datetime import datetime, timedelta\n",
    "import matplotlib.pyplot as plt\n",
    "import pandas as pd\n",
    "\n",
    "crude = pd.read_csv('CLF_data_1.csv')\n",
    "delta = pd.read_csv('DAL_data_1.csv')\n"
   ]
  },
  {
   "cell_type": "code",
   "execution_count": null,
   "metadata": {},
   "outputs": [],
   "source": [
    "# Plot the closing prices for `delta` and `crude`\n",
    "\n",
    "plt.plot(delta['Close'], label='Delta')"
   ]
  },
  {
   "cell_type": "code",
   "execution_count": null,
   "metadata": {},
   "outputs": [],
   "source": [
    "plt.plot(crude['Close'], label='Crude Oil')\n",
    "plt.hlines(25, 0, 2500, colors='r', linestyles='dashed', label='Zero')\n",
    "plt.hlines(100, 0, 2500, colors='r', linestyles='dashed', label='Zero')"
   ]
  },
  {
   "cell_type": "code",
   "execution_count": null,
   "metadata": {},
   "outputs": [],
   "source": [
    "def strategy(crude, delta, crude_range, prop_crude_range, prop_mm_d):\n",
    "    prop_mm = 1\n",
    "    prop_crude = 0\n",
    "    prop_delta = 0\n",
    "\n",
    "    if crude < crude_range[0]:\n",
    "        crude = crude_range[0]\n",
    "    elif crude > crude_range[1]:\n",
    "        crude = crude_range[1]\n",
    "    crude_quantile = (crude - crude_range[0]) / (crude_range[1] - crude_range[0])\n",
    "\n",
    "    prop_crude = prop_crude_range[1] - (prop_crude_range[1] - prop_crude_range[0]) * crude_quantile\n",
    "    prop_delta = (1 - prop_crude) * prop_mm_d\n",
    "    prop_mm = 1 - prop_crude - prop_delta\n",
    "\n",
    "    return (prop_crude, prop_delta, prop_mm)"
   ]
  },
  {
   "cell_type": "code",
   "execution_count": null,
   "metadata": {},
   "outputs": [],
   "source": [
    "def backtest(crude_prices, delta_prices, strategy_params, rebalance_interval=30, initial_investment=10000):\n",
    "    current_value = initial_investment\n",
    "    portfolio = {\"crude\": 0, \"delta\": 0, \"mm\": current_value}\n",
    "    indices = crude_prices.index.union(delta_prices.index).sort_values()\n",
    "\n",
    "    for day in indices:\n",
    "        if (day - 1) % rebalance_interval == 0:\n",
    "            crude_price = crude_prices[day]\n",
    "            delta_price = delta_prices[day]\n",
    "\n",
    "            prop_crude, prop_delta, prop_mm = strategy(crude_price, delta_price, strategy_params[0], strategy_params[1], strategy_params[2])\n",
    "            portfolio[\"crude\"] = prop_crude * current_value\n",
    "            portfolio[\"delta\"] = prop_delta * current_value\n",
    "            portfolio[\"mm\"] = current_value - portfolio[\"crude\"] - portfolio[\"delta\"]\n",
    "\n",
    "            if day == 1:\n",
    "                continue\n",
    "            portfolio[\"crude\"] *= crude_prices[day] / crude_prices[day - 30]\n",
    "            portfolio[\"delta\"] *= delta_prices[day] / delta_prices[day - 30]\n",
    "        \n",
    "        current_value = portfolio[\"crude\"] + portfolio[\"delta\"] + portfolio[\"mm\"]\n",
    "    \n",
    "    return current_value\n",
    "\n",
    "backtest(crude['Close'], delta['Close'], strategy_params=((30, 90), (0.05, 0.3), .3))\n",
    "\n",
    "for i in range(5, 45):\n",
    "    for j in range(70, 100):\n",
    "        for k in range(1, 25):\n",
    "            for l in range(26, 50):\n",
    "                for m in range(1, 5):\n",
    "                    print(backtest(crude['Close'], delta['Close'], strategy_params=((i, j), (k / 100, l / 100), m / 10)))"
   ]
  }
 ],
 "metadata": {
  "kernelspec": {
   "display_name": "Python 3",
   "language": "python",
   "name": "python3"
  },
  "language_info": {
   "codemirror_mode": {
    "name": "ipython",
    "version": 3
   },
   "file_extension": ".py",
   "mimetype": "text/x-python",
   "name": "python",
   "nbconvert_exporter": "python",
   "pygments_lexer": "ipython3",
   "version": "3.10.1"
  }
 },
 "nbformat": 4,
 "nbformat_minor": 2
}
